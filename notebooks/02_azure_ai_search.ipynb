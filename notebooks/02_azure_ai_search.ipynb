{
 "cells": [
  {
   "cell_type": "markdown",
   "metadata": {},
   "source": [
    "# Azure AI Search: vector search, step by step"
   ]
  },
  {
   "cell_type": "markdown",
   "metadata": {},
   "source": [
    "## Setup API client\n"
   ]
  },
  {
   "cell_type": "code",
   "execution_count": 1,
   "metadata": {},
   "outputs": [],
   "source": [
    "import os\n",
    "\n",
    "import azure.identity\n",
    "import dotenv\n",
    "from azure.search.documents.indexes import SearchIndexClient\n",
    "from azure.core.credentials import AzureKeyCredential\n",
    "\n",
    "dotenv.load_dotenv()\n",
    "\n",
    "AZURE_SEARCH_SERVICE = os.getenv(\"AZURE_SEARCH_SERVICE\")\n",
    "AZURE_SEARCH_ENDPOINT = f\"https://{AZURE_SEARCH_SERVICE}.search.windows.net\"\n",
    "AZURE_SEARCH_SERVICE_KEY = os.getenv(\"AZURE_SEARCH_SERVICE_KEY\")\n",
    "# azure_credential = azure.identity.AzureDeveloperCliCredential(tenant_id=os.getenv(\"AZURE_TENANT_ID\"))\n",
    "search_service_cred = AzureKeyCredential(AZURE_SEARCH_SERVICE_KEY)\n",
    "index_client = SearchIndexClient(endpoint=AZURE_SEARCH_ENDPOINT, credential=search_service_cred)"
   ]
  },
  {
   "cell_type": "markdown",
   "metadata": {},
   "source": [
    "## Search a tiny index\n",
    "\n",
    "### Create index"
   ]
  },
  {
   "cell_type": "code",
   "execution_count": 2,
   "metadata": {},
   "outputs": [
    {
     "ename": "HttpResponseError",
     "evalue": "(ResourceNameAlreadyInUse) Cannot create index 'teeenytinyindex' because it already exists.\nCode: ResourceNameAlreadyInUse\nMessage: Cannot create index 'teeenytinyindex' because it already exists.\nException Details:\t(CannotCreateExistingIndex) Cannot create index 'teeenytinyindex' because it already exists.\n\tCode: CannotCreateExistingIndex\n\tMessage: Cannot create index 'teeenytinyindex' because it already exists.",
     "output_type": "error",
     "traceback": [
      "\u001b[0;31m---------------------------------------------------------------------------\u001b[0m",
      "\u001b[0;31mHttpResponseError\u001b[0m                         Traceback (most recent call last)",
      "Cell \u001b[0;32mIn[2], line 35\u001b[0m\n\u001b[1;32m     13\u001b[0m AZURE_SEARCH_TINY_INDEX \u001b[38;5;241m=\u001b[39m \u001b[38;5;124m\"\u001b[39m\u001b[38;5;124mteeenytinyindex\u001b[39m\u001b[38;5;124m\"\u001b[39m\n\u001b[1;32m     15\u001b[0m index \u001b[38;5;241m=\u001b[39m SearchIndex(\n\u001b[1;32m     16\u001b[0m     name\u001b[38;5;241m=\u001b[39mAZURE_SEARCH_TINY_INDEX, \n\u001b[1;32m     17\u001b[0m     fields\u001b[38;5;241m=\u001b[39m[\n\u001b[0;32m   (...)\u001b[0m\n\u001b[1;32m     32\u001b[0m     )\n\u001b[1;32m     33\u001b[0m )\n\u001b[0;32m---> 35\u001b[0m \u001b[43mindex_client\u001b[49m\u001b[38;5;241;43m.\u001b[39;49m\u001b[43mcreate_index\u001b[49m\u001b[43m(\u001b[49m\u001b[43mindex\u001b[49m\u001b[43m)\u001b[49m\n",
      "File \u001b[0;32m~/miniconda3/envs/ai_design_win/lib/python3.11/site-packages/azure/core/tracing/decorator.py:94\u001b[0m, in \u001b[0;36mdistributed_trace.<locals>.decorator.<locals>.wrapper_use_tracer\u001b[0;34m(*args, **kwargs)\u001b[0m\n\u001b[1;32m     92\u001b[0m span_impl_type \u001b[38;5;241m=\u001b[39m settings\u001b[38;5;241m.\u001b[39mtracing_implementation()\n\u001b[1;32m     93\u001b[0m \u001b[38;5;28;01mif\u001b[39;00m span_impl_type \u001b[38;5;129;01mis\u001b[39;00m \u001b[38;5;28;01mNone\u001b[39;00m:\n\u001b[0;32m---> 94\u001b[0m     \u001b[38;5;28;01mreturn\u001b[39;00m \u001b[43mfunc\u001b[49m\u001b[43m(\u001b[49m\u001b[38;5;241;43m*\u001b[39;49m\u001b[43margs\u001b[49m\u001b[43m,\u001b[49m\u001b[43m \u001b[49m\u001b[38;5;241;43m*\u001b[39;49m\u001b[38;5;241;43m*\u001b[39;49m\u001b[43mkwargs\u001b[49m\u001b[43m)\u001b[49m\n\u001b[1;32m     96\u001b[0m \u001b[38;5;66;03m# Merge span is parameter is set, but only if no explicit parent are passed\u001b[39;00m\n\u001b[1;32m     97\u001b[0m \u001b[38;5;28;01mif\u001b[39;00m merge_span \u001b[38;5;129;01mand\u001b[39;00m \u001b[38;5;129;01mnot\u001b[39;00m passed_in_parent:\n",
      "File \u001b[0;32m~/miniconda3/envs/ai_design_win/lib/python3.11/site-packages/azure/search/documents/indexes/_search_index_client.py:230\u001b[0m, in \u001b[0;36mSearchIndexClient.create_index\u001b[0;34m(self, index, **kwargs)\u001b[0m\n\u001b[1;32m    228\u001b[0m kwargs[\u001b[38;5;124m\"\u001b[39m\u001b[38;5;124mheaders\u001b[39m\u001b[38;5;124m\"\u001b[39m] \u001b[38;5;241m=\u001b[39m \u001b[38;5;28mself\u001b[39m\u001b[38;5;241m.\u001b[39m_merge_client_headers(kwargs\u001b[38;5;241m.\u001b[39mget(\u001b[38;5;124m\"\u001b[39m\u001b[38;5;124mheaders\u001b[39m\u001b[38;5;124m\"\u001b[39m))\n\u001b[1;32m    229\u001b[0m patched_index \u001b[38;5;241m=\u001b[39m index\u001b[38;5;241m.\u001b[39m_to_generated()  \u001b[38;5;66;03m# pylint:disable=protected-access\u001b[39;00m\n\u001b[0;32m--> 230\u001b[0m result \u001b[38;5;241m=\u001b[39m \u001b[38;5;28;43mself\u001b[39;49m\u001b[38;5;241;43m.\u001b[39;49m\u001b[43m_client\u001b[49m\u001b[38;5;241;43m.\u001b[39;49m\u001b[43mindexes\u001b[49m\u001b[38;5;241;43m.\u001b[39;49m\u001b[43mcreate\u001b[49m\u001b[43m(\u001b[49m\u001b[43mpatched_index\u001b[49m\u001b[43m,\u001b[49m\u001b[43m \u001b[49m\u001b[38;5;241;43m*\u001b[39;49m\u001b[38;5;241;43m*\u001b[39;49m\u001b[43mkwargs\u001b[49m\u001b[43m)\u001b[49m\n\u001b[1;32m    231\u001b[0m \u001b[38;5;28;01mreturn\u001b[39;00m cast(SearchIndex, SearchIndex\u001b[38;5;241m.\u001b[39m_from_generated(result))\n",
      "File \u001b[0;32m~/miniconda3/envs/ai_design_win/lib/python3.11/site-packages/azure/core/tracing/decorator.py:94\u001b[0m, in \u001b[0;36mdistributed_trace.<locals>.decorator.<locals>.wrapper_use_tracer\u001b[0;34m(*args, **kwargs)\u001b[0m\n\u001b[1;32m     92\u001b[0m span_impl_type \u001b[38;5;241m=\u001b[39m settings\u001b[38;5;241m.\u001b[39mtracing_implementation()\n\u001b[1;32m     93\u001b[0m \u001b[38;5;28;01mif\u001b[39;00m span_impl_type \u001b[38;5;129;01mis\u001b[39;00m \u001b[38;5;28;01mNone\u001b[39;00m:\n\u001b[0;32m---> 94\u001b[0m     \u001b[38;5;28;01mreturn\u001b[39;00m \u001b[43mfunc\u001b[49m\u001b[43m(\u001b[49m\u001b[38;5;241;43m*\u001b[39;49m\u001b[43margs\u001b[49m\u001b[43m,\u001b[49m\u001b[43m \u001b[49m\u001b[38;5;241;43m*\u001b[39;49m\u001b[38;5;241;43m*\u001b[39;49m\u001b[43mkwargs\u001b[49m\u001b[43m)\u001b[49m\n\u001b[1;32m     96\u001b[0m \u001b[38;5;66;03m# Merge span is parameter is set, but only if no explicit parent are passed\u001b[39;00m\n\u001b[1;32m     97\u001b[0m \u001b[38;5;28;01mif\u001b[39;00m merge_span \u001b[38;5;129;01mand\u001b[39;00m \u001b[38;5;129;01mnot\u001b[39;00m passed_in_parent:\n",
      "File \u001b[0;32m~/miniconda3/envs/ai_design_win/lib/python3.11/site-packages/azure/search/documents/indexes/_generated/operations/_indexes_operations.py:399\u001b[0m, in \u001b[0;36mIndexesOperations.create\u001b[0;34m(self, index, request_options, **kwargs)\u001b[0m\n\u001b[1;32m    397\u001b[0m     map_error(status_code\u001b[38;5;241m=\u001b[39mresponse\u001b[38;5;241m.\u001b[39mstatus_code, response\u001b[38;5;241m=\u001b[39mresponse, error_map\u001b[38;5;241m=\u001b[39merror_map)\n\u001b[1;32m    398\u001b[0m     error \u001b[38;5;241m=\u001b[39m \u001b[38;5;28mself\u001b[39m\u001b[38;5;241m.\u001b[39m_deserialize\u001b[38;5;241m.\u001b[39mfailsafe_deserialize(_models\u001b[38;5;241m.\u001b[39mErrorResponse, pipeline_response)\n\u001b[0;32m--> 399\u001b[0m     \u001b[38;5;28;01mraise\u001b[39;00m HttpResponseError(response\u001b[38;5;241m=\u001b[39mresponse, model\u001b[38;5;241m=\u001b[39merror)\n\u001b[1;32m    401\u001b[0m deserialized \u001b[38;5;241m=\u001b[39m \u001b[38;5;28mself\u001b[39m\u001b[38;5;241m.\u001b[39m_deserialize(\u001b[38;5;124m\"\u001b[39m\u001b[38;5;124mSearchIndex\u001b[39m\u001b[38;5;124m\"\u001b[39m, pipeline_response\u001b[38;5;241m.\u001b[39mhttp_response)\n\u001b[1;32m    403\u001b[0m \u001b[38;5;28;01mif\u001b[39;00m \u001b[38;5;28mcls\u001b[39m:\n",
      "\u001b[0;31mHttpResponseError\u001b[0m: (ResourceNameAlreadyInUse) Cannot create index 'teeenytinyindex' because it already exists.\nCode: ResourceNameAlreadyInUse\nMessage: Cannot create index 'teeenytinyindex' because it already exists.\nException Details:\t(CannotCreateExistingIndex) Cannot create index 'teeenytinyindex' because it already exists.\n\tCode: CannotCreateExistingIndex\n\tMessage: Cannot create index 'teeenytinyindex' because it already exists."
     ]
    }
   ],
   "source": [
    "from azure.search.documents.indexes.models import (\n",
    "    HnswAlgorithmConfiguration,\n",
    "    HnswParameters,\n",
    "    SearchField,\n",
    "    SearchFieldDataType,\n",
    "    SearchIndex,\n",
    "    SimpleField,\n",
    "    VectorSearch,\n",
    "    VectorSearchAlgorithmKind,\n",
    "    VectorSearchProfile,\n",
    ")\n",
    "\n",
    "AZURE_SEARCH_TINY_INDEX = \"teeenytinyindex\"\n",
    "\n",
    "index = SearchIndex(\n",
    "    name=AZURE_SEARCH_TINY_INDEX, \n",
    "    fields=[\n",
    "        SimpleField(name=\"id\", type=SearchFieldDataType.String, key=True),\n",
    "        SearchField(name=\"embedding\", \n",
    "                    type=SearchFieldDataType.Collection(SearchFieldDataType.Single), \n",
    "                    searchable=True, \n",
    "                    vector_search_dimensions=3,\n",
    "                    vector_search_profile_name=\"embedding_profile\")\n",
    "    ],\n",
    "    vector_search=VectorSearch(\n",
    "        algorithms=[HnswAlgorithmConfiguration( # Hierachical Navigable Small World, IVF\n",
    "                            name=\"hnsw_config\",\n",
    "                            kind=VectorSearchAlgorithmKind.HNSW,\n",
    "                            parameters=HnswParameters(metric=\"cosine\"),\n",
    "                        )],\n",
    "        profiles=[VectorSearchProfile(name=\"embedding_profile\", algorithm_configuration_name=\"hnsw_config\")]\n",
    "    )\n",
    ")\n",
    "\n",
    "index_client.create_index(index)"
   ]
  },
  {
   "cell_type": "markdown",
   "metadata": {},
   "source": [
    "### Insert a few documents with tiny vectors"
   ]
  },
  {
   "cell_type": "code",
   "execution_count": 8,
   "metadata": {},
   "outputs": [
    {
     "data": {
      "text/plain": [
       "[<azure.search.documents._generated.models._models_py3.IndexingResult at 0x7f89e142d190>,\n",
       " <azure.search.documents._generated.models._models_py3.IndexingResult at 0x7f89e142d890>,\n",
       " <azure.search.documents._generated.models._models_py3.IndexingResult at 0x7f89e142dc90>]"
      ]
     },
     "execution_count": 8,
     "metadata": {},
     "output_type": "execute_result"
    }
   ],
   "source": [
    "from azure.search.documents import SearchClient\n",
    "\n",
    "search_client = SearchClient(AZURE_SEARCH_ENDPOINT, AZURE_SEARCH_TINY_INDEX, credential=key_cred)\n",
    "search_client.upload_documents(documents=[\n",
    "    {\"id\": \"1\", \"embedding\": [1, 2, 3]},\n",
    "    {\"id\": \"2\", \"embedding\": [1, 1, 3]},\n",
    "    {\"id\": \"3\", \"embedding\": [4, 5, 6]}])"
   ]
  },
  {
   "cell_type": "markdown",
   "metadata": {},
   "source": [
    "### Search using vector similarity"
   ]
  },
  {
   "cell_type": "code",
   "execution_count": 9,
   "metadata": {},
   "outputs": [
    {
     "name": "stdout",
     "output_type": "stream",
     "text": [
      "id: 2, score: 0.36515692\n",
      "id: 1, score: 0.3618256\n",
      "id: 3, score: 0.34674543\n"
     ]
    }
   ],
   "source": [
    "from azure.search.documents.models import VectorizedQuery\n",
    "\n",
    "r = search_client.search(search_text=None, vector_queries=[\n",
    "    VectorizedQuery(vector=[-2, -1, -1], k_nearest_neighbors=3, fields=\"embedding\")])\n",
    "for doc in r:\n",
    "    print(f\"id: {doc['id']}, score: {doc['@search.score']}\")"
   ]
  },
  {
   "cell_type": "markdown",
   "metadata": {},
   "source": [
    "## Search a larger index"
   ]
  },
  {
   "cell_type": "code",
   "execution_count": 4,
   "metadata": {},
   "outputs": [],
   "source": [
    "import azure.identity\n",
    "import dotenv\n",
    "import openai\n",
    "\n",
    "dotenv.load_dotenv()\n",
    "\n",
    "# Initialize Azure search variables\n",
    "AZURE_SEARCH_SERVICE = os.getenv(\"AZURE_SEARCH_SERVICE\")\n",
    "AZURE_SEARCH_ENDPOINT = f\"https://{AZURE_SEARCH_SERVICE}.search.windows.net\"\n",
    "\n",
    "# Set up OpenAI client based on environment variables\n",
    "dotenv.load_dotenv()\n",
    "AZURE_OPENAI_SERVICE = os.getenv(\"AZURE_OPENAI_SERVICE\")\n",
    "AZURE_OPENAI_ADA_DEPLOYMENT = os.getenv(\"AZURE_OPENAI_ADA_DEPLOYMENT\")\n",
    "\n",
    "token_provider = azure.identity.get_bearer_token_provider(azure_credential, \"https://cognitiveservices.azure.com/.default\")\n",
    "openai_client = openai.AzureOpenAI(\n",
    "    api_version=\"2023-07-01-preview\",\n",
    "    azure_endpoint=f\"https://{AZURE_OPENAI_SERVICE}.openai.azure.com\",\n",
    "    azure_ad_token_provider=token_provider)\n",
    "\n",
    "def get_embedding(text):\n",
    "    get_embeddings_response = openai_client.embeddings.create(model=AZURE_OPENAI_ADA_DEPLOYMENT, input=text)\n",
    "    return get_embeddings_response.data[0].embedding"
   ]
  },
  {
   "cell_type": "code",
   "execution_count": 30,
   "metadata": {},
   "outputs": [],
   "source": [
    "products = []\n",
    "with open(\"./data/products.txt\", \"r\") as f:\n",
    "    for line in f:\n",
    "        products.append(line)"
   ]
  },
  {
   "cell_type": "code",
   "execution_count": 31,
   "metadata": {},
   "outputs": [
    {
     "data": {
      "text/plain": [
       "['Dell, $999.00, Dell laptops are known for their durability and performance, making them a popular choice for both personal and professional use.\\n',\n",
       " 'Lenovo, $899.00, Lenovo laptops offer a great balance of performance and price, with a variety of models suitable for different needs.\\n',\n",
       " 'HP, $799.00, HP laptops are versatile and reliable, with a range of options from budget-friendly to high-end models.\\n',\n",
       " 'Apple, $1299.00, Apple laptops are known for their sleek design and powerful performance, ideal for creative professionals.\\n',\n",
       " 'Asus, $699.00, Asus laptops provide excellent value for money, with a focus on gaming and high-performance computing.\\n',\n",
       " 'Dell Laptop, $999.00, Dell laptops are known for their durability and performance, making them a popular choice for both personal and professional use. They come with a variety of features including high-resolution displays, powerful processors, and long battery life, ensuring that users can work efficiently and effectively.\\n',\n",
       " 'Lenovo Laptop, $899.00, Lenovo laptops offer a great balance of performance and price, with a variety of models suitable for different needs. Whether you are a student, a professional, or a gamer, Lenovo has a laptop that will meet your requirements with features like robust build quality, excellent keyboards, and reliable customer support.\\n',\n",
       " 'HP Laptop, $799.00, HP laptops are versatile and reliable, with a range of options from budget-friendly to high-end models. They are equipped with the latest technology, including fast processors, ample storage, and high-quality graphics, making them ideal for both work and play.\\n',\n",
       " 'Apple Laptop, $1299.00, Apple laptops are known for their sleek design and powerful performance, ideal for creative professionals. They feature high-resolution Retina displays, fast SSD storage, and the macOS operating system, which is optimized for performance and ease of use.\\n',\n",
       " 'Asus Laptop, $699.00, Asus laptops provide excellent value for money, with a focus on gaming and high-performance computing. They come with powerful graphics cards, high-refresh-rate displays, and efficient cooling systems, making them perfect for gamers and power users.\\n',\n",
       " \"Samsung Smartphone, $999.00, Samsung smartphones are known for their cutting-edge technology and innovative features. They offer high-resolution displays, powerful processors, and advanced camera systems, making them ideal for photography, gaming, and productivity. Samsung's One UI provides a smooth and intuitive user experience, with regular updates and security patches.\\n\",\n",
       " 'Apple iPhone, $1099.00, Apple iPhones are renowned for their premium build quality and seamless integration with the Apple ecosystem. They feature high-resolution Retina displays, powerful A-series processors, and advanced camera systems with features like Night mode and Deep Fusion. iPhones run on iOS, which is known for its smooth performance, security, and a vast selection of apps.\\n',\n",
       " \"Google Pixel, $799.00, Google Pixel smartphones offer a pure Android experience with regular updates and exclusive features. They come with high-quality cameras that excel in low-light conditions, fast processors, and high-resolution displays. The Pixel's integration with Google services makes it a great choice for users who rely on Google's ecosystem.\\n\",\n",
       " \"OnePlus Smartphone, $699.00, OnePlus smartphones are known for their high performance and value for money. They feature fast processors, high-refresh-rate displays, and advanced camera systems. OnePlus's OxygenOS provides a clean and customizable user experience, with regular updates and optimizations.\\n\",\n",
       " \"Sony Xperia, $899.00, Sony Xperia smartphones are known for their high-quality displays and advanced camera technology. They offer features like 4K HDR displays, powerful processors, and professional-grade camera systems. Sony's integration with its entertainment ecosystem makes Xperia phones a great choice for media consumption and photography.\\n\"]"
      ]
     },
     "execution_count": 31,
     "metadata": {},
     "output_type": "execute_result"
    }
   ],
   "source": [
    "products"
   ]
  },
  {
   "cell_type": "markdown",
   "metadata": {},
   "source": [
    "Create new index"
   ]
  },
  {
   "cell_type": "code",
   "execution_count": 32,
   "metadata": {},
   "outputs": [
    {
     "data": {
      "text/plain": [
       "<azure.search.documents.indexes.models._index.SearchIndex at 0x7f89e1476f10>"
      ]
     },
     "execution_count": 32,
     "metadata": {},
     "output_type": "execute_result"
    }
   ],
   "source": [
    "from azure.search.documents.indexes.models import SearchableField\n",
    "AZURE_SEARCH_FULL_INDEX = \"gptkbindex\"\n",
    "\n",
    "index = SearchIndex(\n",
    "    name=AZURE_SEARCH_FULL_INDEX, \n",
    "    fields=[\n",
    "        SimpleField(name=\"id\", type=SearchFieldDataType.String, key=True),\n",
    "        SearchableField(name=\"content\", type=SearchFieldDataType.String),\n",
    "        SearchableField(name=\"sourcefile\", type=SearchFieldDataType.String),\n",
    "        SearchField(name=\"embedding\", \n",
    "                    type=SearchFieldDataType.Collection(SearchFieldDataType.Single), \n",
    "                    searchable=True, \n",
    "                    vector_search_dimensions=1536,\n",
    "                    vector_search_profile_name=\"embedding_profile\")\n",
    "    ],\n",
    "    vector_search=VectorSearch(\n",
    "        algorithms=[HnswAlgorithmConfiguration( # Hierachical Navigable Small World, IVF\n",
    "                            name=\"hnsw_config\",\n",
    "                            kind=VectorSearchAlgorithmKind.HNSW,\n",
    "                            parameters=HnswParameters(metric=\"cosine\"),\n",
    "                        )],\n",
    "        profiles=[VectorSearchProfile(name=\"embedding_profile\", algorithm_configuration_name=\"hnsw_config\")]\n",
    "    )\n",
    ")\n",
    "\n",
    "index_client.create_index(index)"
   ]
  },
  {
   "cell_type": "markdown",
   "metadata": {},
   "source": [
    "Index document"
   ]
  },
  {
   "cell_type": "code",
   "execution_count": 33,
   "metadata": {},
   "outputs": [],
   "source": [
    "# Create vectors from documents\n",
    "documents = [{\"id\": str(i), \"content\": prod, \"embedding\": get_embedding(prod), \"sourcefile\": \"products.txt\"} for i, prod in enumerate(products)]"
   ]
  },
  {
   "cell_type": "code",
   "execution_count": null,
   "metadata": {},
   "outputs": [],
   "source": [
    "documents[0]"
   ]
  },
  {
   "cell_type": "markdown",
   "metadata": {},
   "source": [
    "Upload to Vector DB"
   ]
  },
  {
   "cell_type": "code",
   "execution_count": 34,
   "metadata": {},
   "outputs": [
    {
     "data": {
      "text/plain": [
       "[<azure.search.documents._generated.models._models_py3.IndexingResult at 0x7f89ba682fd0>,\n",
       " <azure.search.documents._generated.models._models_py3.IndexingResult at 0x7f89ba683f90>,\n",
       " <azure.search.documents._generated.models._models_py3.IndexingResult at 0x7f89ba682dd0>,\n",
       " <azure.search.documents._generated.models._models_py3.IndexingResult at 0x7f89ba683a90>,\n",
       " <azure.search.documents._generated.models._models_py3.IndexingResult at 0x7f89ba5d8190>,\n",
       " <azure.search.documents._generated.models._models_py3.IndexingResult at 0x7f89ba5db450>,\n",
       " <azure.search.documents._generated.models._models_py3.IndexingResult at 0x7f89ba5dba50>,\n",
       " <azure.search.documents._generated.models._models_py3.IndexingResult at 0x7f89ba5db310>,\n",
       " <azure.search.documents._generated.models._models_py3.IndexingResult at 0x7f89ba5d8850>,\n",
       " <azure.search.documents._generated.models._models_py3.IndexingResult at 0x7f89ba5dae50>,\n",
       " <azure.search.documents._generated.models._models_py3.IndexingResult at 0x7f89ba5dba10>,\n",
       " <azure.search.documents._generated.models._models_py3.IndexingResult at 0x7f89ba5d9c90>,\n",
       " <azure.search.documents._generated.models._models_py3.IndexingResult at 0x7f89ba5daf50>,\n",
       " <azure.search.documents._generated.models._models_py3.IndexingResult at 0x7f89ba5d8e50>,\n",
       " <azure.search.documents._generated.models._models_py3.IndexingResult at 0x7f89ba5dbf50>]"
      ]
     },
     "execution_count": 34,
     "metadata": {},
     "output_type": "execute_result"
    }
   ],
   "source": [
    "\n",
    "search_client = SearchClient(AZURE_SEARCH_ENDPOINT, AZURE_SEARCH_FULL_INDEX, credential=key_cred)\n",
    "search_client.upload_documents(documents=documents)"
   ]
  },
  {
   "cell_type": "code",
   "execution_count": 36,
   "metadata": {},
   "outputs": [
    {
     "name": "stdout",
     "output_type": "stream",
     "text": [
      "Score: 0.83161\tContent:Dell, $999.00, Dell laptops are known for their durability and performance, making them a popular choice for both personal and professional use. \n",
      "Score: 0.83101\tContent:Dell Laptop, $999.00, Dell laptops are known for their durability and performance, making them a popular choice for both personal and professional use\n",
      "Score: 0.82883\tContent:HP, $799.00, HP laptops are versatile and reliable, with a range of options from budget-friendly to high-end models. \n",
      "Score: 0.82771\tContent:Lenovo Laptop, $899.00, Lenovo laptops offer a great balance of performance and price, with a variety of models suitable for different needs. Whether \n",
      "Score: 0.82685\tContent:Lenovo, $899.00, Lenovo laptops offer a great balance of performance and price, with a variety of models suitable for different needs. \n"
     ]
    }
   ],
   "source": [
    "AZURE_SEARCH_FULL_INDEX = \"gptkbindex\"\n",
    "# search_client = SearchClient(AZURE_SEARCH_ENDPOINT, AZURE_SEARCH_FULL_INDEX, credential=azure_credential)\n",
    "\n",
    "search_query = \"do you have laptop?\"\n",
    "search_vector = get_embedding(search_query)\n",
    "r = search_client.search(search_text=None, top=5, vector_queries=[\n",
    "    VectorizedQuery(vector=search_vector, k_nearest_neighbors=5, fields=\"embedding\")])\n",
    "for doc in r:\n",
    "    content = doc[\"content\"].replace(\"\\n\", \" \")[:150]\n",
    "    print(f\"Score: {doc['@search.score']:.5f}\\tContent:{content}\")"
   ]
  },
  {
   "cell_type": "markdown",
   "metadata": {},
   "source": []
  }
 ],
 "metadata": {
  "kernelspec": {
   "display_name": "Python 3",
   "language": "python",
   "name": "python3"
  },
  "language_info": {
   "codemirror_mode": {
    "name": "ipython",
    "version": 3
   },
   "file_extension": ".py",
   "mimetype": "text/x-python",
   "name": "python",
   "nbconvert_exporter": "python",
   "pygments_lexer": "ipython3",
   "version": "3.11.9"
  },
  "orig_nbformat": 4
 },
 "nbformat": 4,
 "nbformat_minor": 2
}
