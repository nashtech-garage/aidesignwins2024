{
 "cells": [
  {
   "cell_type": "markdown",
   "metadata": {},
   "source": [
    "# Xây dựng Agent với Function calling"
   ]
  },
  {
   "cell_type": "markdown",
   "metadata": {},
   "source": [
    "## Agent là gì?\n",
    "\n",
    "Agent có thể hiểu là một chương trình AI có thể giải quyết những tác vụ phức tạp sử dụng những công cụ mà nó được tích hợp.\n",
    "\n",
    "## Các thành phần chính:\n",
    "- Thành phần suy luận: agent sử dụng LLM để suy luận\n",
    "- Agent được trang bị các công cụ (tools)\n",
    "\n",
    "## Agent với Function calling\n",
    "Azure Open AI hỗ trợ tính năng Function calling, giúp xây dựng agent một cách dễ dàng.\n",
    "Chúng ta cần định nghĩa các công cụ (tools) mà agent có thể sử dụng. "
   ]
  },
  {
   "cell_type": "markdown",
   "metadata": {},
   "source": [
    "## Setup API clients"
   ]
  },
  {
   "cell_type": "code",
   "execution_count": 25,
   "metadata": {},
   "outputs": [],
   "source": [
    "import os\n",
    "import dotenv\n",
    "import openai\n",
    "\n",
    "dotenv.load_dotenv()\n",
    "\n",
    "# Initialize Azure OpenAI client\n",
    "AZURE_OPENAI_SERVICE = os.getenv(\"AZURE_OPENAI_SERVICE\")\n",
    "AZURE_OPENAI_DEPLOYMENT_NAME = os.getenv(\"AZURE_OPENAI_DEPLOYMENT_NAME\")\n",
    "\n",
    "client = openai.AzureOpenAI(\n",
    "    api_version=\"2024-05-01-preview\",\n",
    "    azure_endpoint=f\"https://{AZURE_OPENAI_SERVICE}.openai.azure.com\")"
   ]
  },
  {
   "cell_type": "markdown",
   "metadata": {},
   "source": [
    "## Định nghĩa các công cụ\n",
    "\n",
    "Ở đây, chúng ta định nghĩa một công cụ có tên \"get_current_time\" có nhiệm vụ lấy thông tin thời gian hiện tại của hệ thống.\n",
    "Chúng ta cần định nghĩa các thành phần sau:\n",
    "- name\n",
    "- description: Mô tả chức năng của function\n",
    "- parameters: Mô tả các tham số mà function nhận"
   ]
  },
  {
   "cell_type": "code",
   "execution_count": null,
   "metadata": {},
   "outputs": [],
   "source": [
    "# Define the function for the model\n",
    "tools = [\n",
    "    {\n",
    "        \"type\": \"function\",\n",
    "        \"function\": {\n",
    "            \"name\": \"get_current_time\",\n",
    "            \"description\": \"Get the current time in a given timezone\",\n",
    "            \"parameters\": {\n",
    "                \"type\": \"object\",\n",
    "                \"properties\": {\n",
    "                    \"timezone\": {\n",
    "                        \"type\": \"string\",\n",
    "                        \"description\": \"The timezone name of the city, e.g Asia/Tokyo, America/Los_Angeles\",\n",
    "                    },\n",
    "                },\n",
    "                \"required\": [\"location\"],\n",
    "            },\n",
    "        }\n",
    "    }\n",
    "]"
   ]
  },
  {
   "cell_type": "code",
   "execution_count": 27,
   "metadata": {},
   "outputs": [],
   "source": [
    "import os\n",
    "import json\n",
    "from datetime import datetime\n",
    "from typing import List\n",
    "from zoneinfo import ZoneInfo\n",
    "\n",
    "# Run the conversation and print the result\n",
    "messages = []\n",
    "\n",
    "def get_current_time(timezone):\n",
    "    \"\"\"Get the current time for a given timezone\"\"\"\n",
    "    print(f\"get_current_time called with timezone: {timezone}\")  \n",
    "    if timezone is None:\n",
    "        return \"No timezone provided\"\n",
    "    \n",
    "    current_time = datetime.now(ZoneInfo(timezone)).strftime(\"%I:%M %p\")\n",
    "    return json.dumps({        \n",
    "        \"current_time\": current_time\n",
    "    })\n",
    "    \n",
    "   \n",
    "\n",
    "def run_conversation(question:str, messages:List[dict]=[]):      \n",
    "    messages.append({\"role\": \"user\", \"content\": question})    \n",
    "\n",
    "    # First API call: Ask the model to use the function\n",
    "    response = client.chat.completions.create(\n",
    "        model=AZURE_OPENAI_DEPLOYMENT_NAME,\n",
    "        messages=messages,\n",
    "        tools=tools,\n",
    "        tool_choice=\"auto\",\n",
    "    )\n",
    "\n",
    "    # Process the model's response\n",
    "    response_message = response.choices[0].message\n",
    "    messages.append(response_message)\n",
    "\n",
    "    print(\"Model's response:\")  \n",
    "    print(response_message)  \n",
    "\n",
    "    # Handle function calls\n",
    "    if response_message.tool_calls:\n",
    "        for tool_call in response_message.tool_calls:\n",
    "            if tool_call.function.name == \"get_current_time\":\n",
    "                function_args = json.loads(tool_call.function.arguments)\n",
    "                print(f\"Function arguments: {function_args}\")  \n",
    "                time_response = get_current_time(\n",
    "                    timezone=function_args.get(\"timezone\")\n",
    "                )\n",
    "                messages.append({\n",
    "                    \"tool_call_id\": tool_call.id,\n",
    "                    \"role\": \"tool\",\n",
    "                    \"name\": \"get_current_time\",\n",
    "                    \"content\": time_response,\n",
    "                })\n",
    "    else:\n",
    "        print(\"No tool calls were made by the model.\")  \n",
    "\n",
    "    # Second API call: Get the final response from the model\n",
    "    final_response = client.chat.completions.create(\n",
    "        model=AZURE_OPENAI_DEPLOYMENT_NAME,\n",
    "        messages=messages,\n",
    "    )\n",
    "\n",
    "    return final_response.choices[0].message.content\n"
   ]
  },
  {
   "cell_type": "code",
   "execution_count": 29,
   "metadata": {},
   "outputs": [
    {
     "name": "stdout",
     "output_type": "stream",
     "text": [
      "Model's response:\n",
      "ChatCompletionMessage(content=None, refusal=None, role='assistant', function_call=None, tool_calls=[ChatCompletionMessageToolCall(id='call_2UiHXwJhtnt0s9vFevITB0W6', function=Function(arguments='{\"timezone\":\"Asia/Ho_Chi_Minh\"}', name='get_current_time'), type='function')])\n",
      "Function arguments: {'timezone': 'Asia/Ho_Chi_Minh'}\n",
      "get_current_time called with timezone: Asia/Ho_Chi_Minh\n",
      "The current time in Hanoi is 1:13 PM.\n"
     ]
    }
   ],
   "source": [
    "\n",
    "print(run_conversation(\"What's the current time in Hanoi\", messages=messages))"
   ]
  }
 ],
 "metadata": {
  "kernelspec": {
   "display_name": "ai_design_win",
   "language": "python",
   "name": "python3"
  },
  "language_info": {
   "codemirror_mode": {
    "name": "ipython",
    "version": 3
   },
   "file_extension": ".py",
   "mimetype": "text/x-python",
   "name": "python",
   "nbconvert_exporter": "python",
   "pygments_lexer": "ipython3",
   "version": "3.11.9"
  }
 },
 "nbformat": 4,
 "nbformat_minor": 2
}
